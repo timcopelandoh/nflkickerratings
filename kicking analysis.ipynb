{
 "cells": [
  {
   "cell_type": "code",
   "execution_count": 5,
   "metadata": {},
   "outputs": [
    {
     "data": {
      "text/plain": [
       "Index(['Date', 'Tm', 'At', 'Opp', 'Result', 'Player', 'Dist', 'Good?', 'Blk?',\n",
       "       'Home', 'PlayerID', 'Stadium', 'Dist_sq', 'Season'],\n",
       "      dtype='object')"
      ]
     },
     "execution_count": 5,
     "metadata": {},
     "output_type": "execute_result"
    }
   ],
   "source": [
    "import numpy as np\n",
    "import pandas as pd\n",
    "import matplotlib.pyplot as plt\n",
    "import seaborn as sns\n",
    "import datetime\n",
    "import statsmodels.api as sm\n",
    "from importkickdata import loadkickdata\n",
    "\n",
    "# Function loads and cleans kicking data from profootballreference.com\n",
    "kicks = loadkickdata('kickingdata.csv')\n",
    "kicks.columns"
   ]
  },
  {
   "cell_type": "code",
   "execution_count": 30,
   "metadata": {},
   "outputs": [],
   "source": [
    "kicks = pd.read_csv('kickingdata.csv', header=0)\n",
    "\n",
    "# Rename column containing an @ symbol if the kicking team is the away team.\n",
    "kicks.rename(columns={'Unnamed: 3':'At'}, inplace=True)\n",
    "\n",
    "# Delete index column in csv\n",
    "del kicks['Rk']\n",
    "\n",
    "# Create boolean column if kicking team is the home team\n",
    "kicks['Home'] = (kicks['At'] != '@')\n",
    "\n",
    "# Isolate unique player id\n",
    "kicks['PlayerID'] = kicks['Player'].apply(lambda x: str.split(x, '\\\\')[1])\n",
    "\n",
    "# Create variable for team whose stadium the game is played at\n",
    "kicks['Stadium'] = kicks.apply(lambda x: [x['Opp'],x['Tm']][x['Home']], axis='columns')\n",
    "\n",
    "# Reformat 'Good?' column to be a boolean\n",
    "kicks['Good?'] = (kicks['Good?']=='Y')\n",
    "\n",
    "# Reformat blocked kick column to be a boolean\n",
    "kicks['Blk?'] = (kicks['Blk?']=='Y')\n",
    "\n",
    "# Function to convert date from the given format (a string with the format mm/dd/yy) \n",
    "# to python date format.\n",
    "def convert_date(x):\n",
    "    x = x.split('/')\n",
    "    return datetime.date(int('20'+x[2]), int(x[0]), int(x[1]))\n",
    "\n",
    "# Reformat date column\n",
    "kicks['Date'] = kicks['Date'].apply(convert_date)\n",
    "\n",
    "# Create variable for distance squared\n",
    "kicks['Dist_sq'] = kicks['Dist'].apply(lambda x: x**2)\n",
    "\n",
    "# Create variable for season of kick\n",
    "kicks['Season'] = kicks['Date'].apply(lambda x: x.year)\n",
    "\n",
    "# Create month variable\n",
    "kicks['Month'] = kicks['Date'].apply(lambda x: x.month)\n",
    "\n",
    "# Add constant term for regression\n",
    "kicks['Constant'] = 1"
   ]
  },
  {
   "cell_type": "code",
   "execution_count": 7,
   "metadata": {},
   "outputs": [
    {
     "data": {
      "image/png": "[encoded data removed]",
      "text/plain": [
       "<Figure size 864x432 with 1 Axes>"
      ]
     },
     "metadata": {
      "needs_background": "light"
     },
     "output_type": "display_data"
    }
   ],
   "source": [
    "# Create scatter plot displaying success rate by distance of kick\n",
    "bydistance = kicks.groupby(['Dist']).mean()\n",
    "\n",
    "plt.figure(figsize=(12,6))\n",
    "sns.scatterplot(bydistance.index, bydistance['Good?'])\n",
    "plt.show()"
   ]
  },
  {
   "cell_type": "code",
   "execution_count": 9,
   "metadata": {
    "scrolled": true
   },
   "outputs": [
    {
     "data": {
      "image/png": "[encoded data removed]",
      "text/plain": [
       "<Figure size 864x432 with 1 Axes>"
      ]
     },
     "metadata": {
      "needs_background": "light"
     },
     "output_type": "display_data"
    }
   ],
   "source": [
    "bystadium = kicks.groupby(['Stadium']).mean()\n",
    "\n",
    "plt.figure(figsize=(12,6))\n",
    "sns.barplot(bystadium.index, bystadium['Good?'], color='blue')\n",
    "plt.show()"
   ]
  },
  {
   "cell_type": "code",
   "execution_count": 10,
   "metadata": {},
   "outputs": [
    {
     "data": {
      "image/png": "[encoded data removed]",
      "text/plain": [
       "<Figure size 864x432 with 1 Axes>"
      ]
     },
     "metadata": {
      "needs_background": "light"
     },
     "output_type": "display_data"
    }
   ],
   "source": [
    "plt.figure(figsize=(12,6))\n",
    "plt.bar(kicks['Dist'].value_counts().sort_index().index, kicks['Dist'].value_counts().sort_index())\n",
    "plt.show()"
   ]
  },
  {
   "cell_type": "code",
   "execution_count": 11,
   "metadata": {},
   "outputs": [
    {
     "data": {
      "text/plain": [
       "Index(['Date', 'Tm', 'At', 'Opp', 'Result', 'Player', 'Dist', 'Good?', 'Blk?',\n",
       "       'Home', 'PlayerID', 'Stadium', 'Dist_sq', 'Season', 'Month'],\n",
       "      dtype='object')"
      ]
     },
     "execution_count": 11,
     "metadata": {},
     "output_type": "execute_result"
    }
   ],
   "source": [
    "kicks.columns"
   ]
  },
  {
   "cell_type": "code",
   "execution_count": 102,
   "metadata": {
    "scrolled": false
   },
   "outputs": [
    {
     "name": "stdout",
     "output_type": "stream",
     "text": [
      "Optimization terminated successfully.\n",
      "         Current function value: 0.379512\n",
      "         Iterations 7\n"
     ]
    },
    {
     "data": {
      "text/html": [
       "<table class=\"simpletable\">\n",
       "<caption>Probit Marginal Effects</caption>\n",
       "<tr>\n",
       "  <th>Dep. Variable:</th>  <td>Good?</td> \n",
       "</tr>\n",
       "<tr>\n",
       "  <th>Method:</th>         <td>dydx</td>  \n",
       "</tr>\n",
       "<tr>\n",
       "  <th>At:</th>            <td>overall</td>\n",
       "</tr>\n",
       "</table>\n",
       "<table class=\"simpletable\">\n",
       "<tr>\n",
       "     <th></th>        <th>dy/dx</th>    <th>std err</th>      <th>z</th>      <th>P>|z|</th>  <th>[0.025</th>    <th>0.975]</th>  \n",
       "</tr>\n",
       "<tr>\n",
       "  <th>Dist</th>    <td>   -0.0297</td> <td>    0.007</td> <td>   -4.340</td> <td> 0.000</td> <td>   -0.043</td> <td>   -0.016</td>\n",
       "</tr>\n",
       "<tr>\n",
       "  <th>Dist_sq</th> <td>    0.0002</td> <td> 8.07e-05</td> <td>    2.494</td> <td> 0.013</td> <td> 4.31e-05</td> <td>    0.000</td>\n",
       "</tr>\n",
       "</table>"
      ],
      "text/plain": [
       "<class 'statsmodels.iolib.summary.Summary'>\n",
       "\"\"\"\n",
       "       Probit Marginal Effects       \n",
       "=====================================\n",
       "Dep. Variable:                  Good?\n",
       "Method:                          dydx\n",
       "At:                           overall\n",
       "==============================================================================\n",
       "                dy/dx    std err          z      P>|z|      [0.025      0.975]\n",
       "------------------------------------------------------------------------------\n",
       "Dist          -0.0297      0.007     -4.340      0.000      -0.043      -0.016\n",
       "Dist_sq        0.0002   8.07e-05      2.494      0.013    4.31e-05       0.000\n",
       "==============================================================================\n",
       "\"\"\""
      ]
     },
     "execution_count": 102,
     "metadata": {},
     "output_type": "execute_result"
    }
   ],
   "source": [
    "y = kicks['Good?']\n",
    "X = kicks[['Dist', 'Dist_sq', 'Constant']]\n",
    "\n",
    "probit_sq = sm.Probit(y, X)\n",
    "probit_sq_res = probit_sq.fit()\n",
    "probit_sq_me = probit_sq_res.get_margeff()\n",
    "probit_sq_me.summary()"
   ]
  },
  {
   "cell_type": "code",
   "execution_count": 46,
   "metadata": {
    "scrolled": true
   },
   "outputs": [
    {
     "data": {
      "text/html": [
       "<div>\n",
       "<style scoped>\n",
       "    .dataframe tbody tr th:only-of-type {\n",
       "        vertical-align: middle;\n",
       "    }\n",
       "\n",
       "    .dataframe tbody tr th {\n",
       "        vertical-align: top;\n",
       "    }\n",
       "\n",
       "    .dataframe thead th {\n",
       "        text-align: right;\n",
       "    }\n",
       "</style>\n",
       "<table border=\"1\" class=\"dataframe\">\n",
       "  <thead>\n",
       "    <tr style=\"text-align: right;\">\n",
       "      <th></th>\n",
       "      <th>Dist</th>\n",
       "      <th>Dist_sq</th>\n",
       "      <th>Constant</th>\n",
       "    </tr>\n",
       "  </thead>\n",
       "  <tbody>\n",
       "    <tr>\n",
       "      <th>0</th>\n",
       "      <td>39</td>\n",
       "      <td>1521</td>\n",
       "      <td>1</td>\n",
       "    </tr>\n",
       "    <tr>\n",
       "      <th>1</th>\n",
       "      <td>47</td>\n",
       "      <td>2209</td>\n",
       "      <td>1</td>\n",
       "    </tr>\n",
       "    <tr>\n",
       "      <th>2</th>\n",
       "      <td>42</td>\n",
       "      <td>1764</td>\n",
       "      <td>1</td>\n",
       "    </tr>\n",
       "    <tr>\n",
       "      <th>3</th>\n",
       "      <td>43</td>\n",
       "      <td>1849</td>\n",
       "      <td>1</td>\n",
       "    </tr>\n",
       "    <tr>\n",
       "      <th>4</th>\n",
       "      <td>47</td>\n",
       "      <td>2209</td>\n",
       "      <td>1</td>\n",
       "    </tr>\n",
       "    <tr>\n",
       "      <th>5</th>\n",
       "      <td>46</td>\n",
       "      <td>2116</td>\n",
       "      <td>1</td>\n",
       "    </tr>\n",
       "    <tr>\n",
       "      <th>6</th>\n",
       "      <td>54</td>\n",
       "      <td>2916</td>\n",
       "      <td>1</td>\n",
       "    </tr>\n",
       "    <tr>\n",
       "      <th>7</th>\n",
       "      <td>41</td>\n",
       "      <td>1681</td>\n",
       "      <td>1</td>\n",
       "    </tr>\n",
       "    <tr>\n",
       "      <th>8</th>\n",
       "      <td>43</td>\n",
       "      <td>1849</td>\n",
       "      <td>1</td>\n",
       "    </tr>\n",
       "    <tr>\n",
       "      <th>9</th>\n",
       "      <td>48</td>\n",
       "      <td>2304</td>\n",
       "      <td>1</td>\n",
       "    </tr>\n",
       "    <tr>\n",
       "      <th>10</th>\n",
       "      <td>27</td>\n",
       "      <td>729</td>\n",
       "      <td>1</td>\n",
       "    </tr>\n",
       "    <tr>\n",
       "      <th>11</th>\n",
       "      <td>47</td>\n",
       "      <td>2209</td>\n",
       "      <td>1</td>\n",
       "    </tr>\n",
       "    <tr>\n",
       "      <th>12</th>\n",
       "      <td>29</td>\n",
       "      <td>841</td>\n",
       "      <td>1</td>\n",
       "    </tr>\n",
       "    <tr>\n",
       "      <th>13</th>\n",
       "      <td>56</td>\n",
       "      <td>3136</td>\n",
       "      <td>1</td>\n",
       "    </tr>\n",
       "    <tr>\n",
       "      <th>14</th>\n",
       "      <td>53</td>\n",
       "      <td>2809</td>\n",
       "      <td>1</td>\n",
       "    </tr>\n",
       "    <tr>\n",
       "      <th>15</th>\n",
       "      <td>47</td>\n",
       "      <td>2209</td>\n",
       "      <td>1</td>\n",
       "    </tr>\n",
       "    <tr>\n",
       "      <th>16</th>\n",
       "      <td>39</td>\n",
       "      <td>1521</td>\n",
       "      <td>1</td>\n",
       "    </tr>\n",
       "    <tr>\n",
       "      <th>17</th>\n",
       "      <td>34</td>\n",
       "      <td>1156</td>\n",
       "      <td>1</td>\n",
       "    </tr>\n",
       "    <tr>\n",
       "      <th>18</th>\n",
       "      <td>39</td>\n",
       "      <td>1521</td>\n",
       "      <td>1</td>\n",
       "    </tr>\n",
       "    <tr>\n",
       "      <th>19</th>\n",
       "      <td>52</td>\n",
       "      <td>2704</td>\n",
       "      <td>1</td>\n",
       "    </tr>\n",
       "    <tr>\n",
       "      <th>20</th>\n",
       "      <td>47</td>\n",
       "      <td>2209</td>\n",
       "      <td>1</td>\n",
       "    </tr>\n",
       "    <tr>\n",
       "      <th>21</th>\n",
       "      <td>54</td>\n",
       "      <td>2916</td>\n",
       "      <td>1</td>\n",
       "    </tr>\n",
       "    <tr>\n",
       "      <th>22</th>\n",
       "      <td>28</td>\n",
       "      <td>784</td>\n",
       "      <td>1</td>\n",
       "    </tr>\n",
       "    <tr>\n",
       "      <th>23</th>\n",
       "      <td>37</td>\n",
       "      <td>1369</td>\n",
       "      <td>1</td>\n",
       "    </tr>\n",
       "    <tr>\n",
       "      <th>24</th>\n",
       "      <td>45</td>\n",
       "      <td>2025</td>\n",
       "      <td>1</td>\n",
       "    </tr>\n",
       "    <tr>\n",
       "      <th>25</th>\n",
       "      <td>41</td>\n",
       "      <td>1681</td>\n",
       "      <td>1</td>\n",
       "    </tr>\n",
       "    <tr>\n",
       "      <th>26</th>\n",
       "      <td>48</td>\n",
       "      <td>2304</td>\n",
       "      <td>1</td>\n",
       "    </tr>\n",
       "    <tr>\n",
       "      <th>27</th>\n",
       "      <td>36</td>\n",
       "      <td>1296</td>\n",
       "      <td>1</td>\n",
       "    </tr>\n",
       "    <tr>\n",
       "      <th>28</th>\n",
       "      <td>26</td>\n",
       "      <td>676</td>\n",
       "      <td>1</td>\n",
       "    </tr>\n",
       "    <tr>\n",
       "      <th>29</th>\n",
       "      <td>50</td>\n",
       "      <td>2500</td>\n",
       "      <td>1</td>\n",
       "    </tr>\n",
       "    <tr>\n",
       "      <th>...</th>\n",
       "      <td>...</td>\n",
       "      <td>...</td>\n",
       "      <td>...</td>\n",
       "    </tr>\n",
       "    <tr>\n",
       "      <th>2519</th>\n",
       "      <td>42</td>\n",
       "      <td>1764</td>\n",
       "      <td>1</td>\n",
       "    </tr>\n",
       "    <tr>\n",
       "      <th>2520</th>\n",
       "      <td>39</td>\n",
       "      <td>1521</td>\n",
       "      <td>1</td>\n",
       "    </tr>\n",
       "    <tr>\n",
       "      <th>2521</th>\n",
       "      <td>52</td>\n",
       "      <td>2704</td>\n",
       "      <td>1</td>\n",
       "    </tr>\n",
       "    <tr>\n",
       "      <th>2522</th>\n",
       "      <td>43</td>\n",
       "      <td>1849</td>\n",
       "      <td>1</td>\n",
       "    </tr>\n",
       "    <tr>\n",
       "      <th>2523</th>\n",
       "      <td>21</td>\n",
       "      <td>441</td>\n",
       "      <td>1</td>\n",
       "    </tr>\n",
       "    <tr>\n",
       "      <th>2524</th>\n",
       "      <td>39</td>\n",
       "      <td>1521</td>\n",
       "      <td>1</td>\n",
       "    </tr>\n",
       "    <tr>\n",
       "      <th>2525</th>\n",
       "      <td>32</td>\n",
       "      <td>1024</td>\n",
       "      <td>1</td>\n",
       "    </tr>\n",
       "    <tr>\n",
       "      <th>2526</th>\n",
       "      <td>40</td>\n",
       "      <td>1600</td>\n",
       "      <td>1</td>\n",
       "    </tr>\n",
       "    <tr>\n",
       "      <th>2527</th>\n",
       "      <td>52</td>\n",
       "      <td>2704</td>\n",
       "      <td>1</td>\n",
       "    </tr>\n",
       "    <tr>\n",
       "      <th>2528</th>\n",
       "      <td>20</td>\n",
       "      <td>400</td>\n",
       "      <td>1</td>\n",
       "    </tr>\n",
       "    <tr>\n",
       "      <th>2529</th>\n",
       "      <td>25</td>\n",
       "      <td>625</td>\n",
       "      <td>1</td>\n",
       "    </tr>\n",
       "    <tr>\n",
       "      <th>2530</th>\n",
       "      <td>28</td>\n",
       "      <td>784</td>\n",
       "      <td>1</td>\n",
       "    </tr>\n",
       "    <tr>\n",
       "      <th>2531</th>\n",
       "      <td>20</td>\n",
       "      <td>400</td>\n",
       "      <td>1</td>\n",
       "    </tr>\n",
       "    <tr>\n",
       "      <th>2532</th>\n",
       "      <td>50</td>\n",
       "      <td>2500</td>\n",
       "      <td>1</td>\n",
       "    </tr>\n",
       "    <tr>\n",
       "      <th>2533</th>\n",
       "      <td>35</td>\n",
       "      <td>1225</td>\n",
       "      <td>1</td>\n",
       "    </tr>\n",
       "    <tr>\n",
       "      <th>2534</th>\n",
       "      <td>44</td>\n",
       "      <td>1936</td>\n",
       "      <td>1</td>\n",
       "    </tr>\n",
       "    <tr>\n",
       "      <th>2535</th>\n",
       "      <td>20</td>\n",
       "      <td>400</td>\n",
       "      <td>1</td>\n",
       "    </tr>\n",
       "    <tr>\n",
       "      <th>2536</th>\n",
       "      <td>48</td>\n",
       "      <td>2304</td>\n",
       "      <td>1</td>\n",
       "    </tr>\n",
       "    <tr>\n",
       "      <th>2537</th>\n",
       "      <td>25</td>\n",
       "      <td>625</td>\n",
       "      <td>1</td>\n",
       "    </tr>\n",
       "    <tr>\n",
       "      <th>2538</th>\n",
       "      <td>26</td>\n",
       "      <td>676</td>\n",
       "      <td>1</td>\n",
       "    </tr>\n",
       "    <tr>\n",
       "      <th>2539</th>\n",
       "      <td>52</td>\n",
       "      <td>2704</td>\n",
       "      <td>1</td>\n",
       "    </tr>\n",
       "    <tr>\n",
       "      <th>2540</th>\n",
       "      <td>33</td>\n",
       "      <td>1089</td>\n",
       "      <td>1</td>\n",
       "    </tr>\n",
       "    <tr>\n",
       "      <th>2541</th>\n",
       "      <td>46</td>\n",
       "      <td>2116</td>\n",
       "      <td>1</td>\n",
       "    </tr>\n",
       "    <tr>\n",
       "      <th>2542</th>\n",
       "      <td>24</td>\n",
       "      <td>576</td>\n",
       "      <td>1</td>\n",
       "    </tr>\n",
       "    <tr>\n",
       "      <th>2543</th>\n",
       "      <td>58</td>\n",
       "      <td>3364</td>\n",
       "      <td>1</td>\n",
       "    </tr>\n",
       "    <tr>\n",
       "      <th>2544</th>\n",
       "      <td>48</td>\n",
       "      <td>2304</td>\n",
       "      <td>1</td>\n",
       "    </tr>\n",
       "    <tr>\n",
       "      <th>2545</th>\n",
       "      <td>37</td>\n",
       "      <td>1369</td>\n",
       "      <td>1</td>\n",
       "    </tr>\n",
       "    <tr>\n",
       "      <th>2546</th>\n",
       "      <td>25</td>\n",
       "      <td>625</td>\n",
       "      <td>1</td>\n",
       "    </tr>\n",
       "    <tr>\n",
       "      <th>2547</th>\n",
       "      <td>25</td>\n",
       "      <td>625</td>\n",
       "      <td>1</td>\n",
       "    </tr>\n",
       "    <tr>\n",
       "      <th>2548</th>\n",
       "      <td>32</td>\n",
       "      <td>1024</td>\n",
       "      <td>1</td>\n",
       "    </tr>\n",
       "  </tbody>\n",
       "</table>\n",
       "<p>2549 rows × 3 columns</p>\n",
       "</div>"
      ],
      "text/plain": [
       "      Dist  Dist_sq  Constant\n",
       "0       39     1521         1\n",
       "1       47     2209         1\n",
       "2       42     1764         1\n",
       "3       43     1849         1\n",
       "4       47     2209         1\n",
       "5       46     2116         1\n",
       "6       54     2916         1\n",
       "7       41     1681         1\n",
       "8       43     1849         1\n",
       "9       48     2304         1\n",
       "10      27      729         1\n",
       "11      47     2209         1\n",
       "12      29      841         1\n",
       "13      56     3136         1\n",
       "14      53     2809         1\n",
       "15      47     2209         1\n",
       "16      39     1521         1\n",
       "17      34     1156         1\n",
       "18      39     1521         1\n",
       "19      52     2704         1\n",
       "20      47     2209         1\n",
       "21      54     2916         1\n",
       "22      28      784         1\n",
       "23      37     1369         1\n",
       "24      45     2025         1\n",
       "25      41     1681         1\n",
       "26      48     2304         1\n",
       "27      36     1296         1\n",
       "28      26      676         1\n",
       "29      50     2500         1\n",
       "...    ...      ...       ...\n",
       "2519    42     1764         1\n",
       "2520    39     1521         1\n",
       "2521    52     2704         1\n",
       "2522    43     1849         1\n",
       "2523    21      441         1\n",
       "2524    39     1521         1\n",
       "2525    32     1024         1\n",
       "2526    40     1600         1\n",
       "2527    52     2704         1\n",
       "2528    20      400         1\n",
       "2529    25      625         1\n",
       "2530    28      784         1\n",
       "2531    20      400         1\n",
       "2532    50     2500         1\n",
       "2533    35     1225         1\n",
       "2534    44     1936         1\n",
       "2535    20      400         1\n",
       "2536    48     2304         1\n",
       "2537    25      625         1\n",
       "2538    26      676         1\n",
       "2539    52     2704         1\n",
       "2540    33     1089         1\n",
       "2541    46     2116         1\n",
       "2542    24      576         1\n",
       "2543    58     3364         1\n",
       "2544    48     2304         1\n",
       "2545    37     1369         1\n",
       "2546    25      625         1\n",
       "2547    25      625         1\n",
       "2548    32     1024         1\n",
       "\n",
       "[2549 rows x 3 columns]"
      ]
     },
     "execution_count": 46,
     "metadata": {},
     "output_type": "execute_result"
    }
   ],
   "source": [
    "X"
   ]
  },
  {
   "cell_type": "code",
   "execution_count": 113,
   "metadata": {},
   "outputs": [],
   "source": [
    "kicks['Kick prob'] = probit_res.predict(kicks[['Dist', 'Constant']])"
   ]
  },
  {
   "cell_type": "code",
   "execution_count": 62,
   "metadata": {
    "scrolled": true
   },
   "outputs": [
    {
     "data": {
      "text/plain": [
       "array([0.99999982, 0.99999962, 0.99991932, 0.996006  , 0.95756715])"
      ]
     },
     "execution_count": 62,
     "metadata": {},
     "output_type": "execute_result"
    }
   ],
   "source": [
    "probit_sq_res.predict(([[0,0,1],[1,1,1],[10,100,1],[20,400,1], [30,900,1]]))"
   ]
  },
  {
   "cell_type": "code",
   "execution_count": 101,
   "metadata": {
    "scrolled": true
   },
   "outputs": [
    {
     "data": {
      "image/png": "[encoded data removed]",
      "text/plain": [
       "<Figure size 864x432 with 1 Axes>"
      ]
     },
     "metadata": {
      "needs_background": "light"
     },
     "output_type": "display_data"
    }
   ],
   "source": [
    "bydistance = kicks.groupby(['Dist']).mean()\n",
    "\n",
    "plt.figure(figsize=(12,6))\n",
    "sns.scatterplot(bydistance.index, bydistance['Good?'])\n",
    "sns.scatterplot(bydistance.index, bydistance['Kick prob'])\n",
    "plt.xlim([0,70])\n",
    "\n",
    "plt.show()"
   ]
  },
  {
   "cell_type": "code",
   "execution_count": 100,
   "metadata": {
    "scrolled": true
   },
   "outputs": [
    {
     "name": "stdout",
     "output_type": "stream",
     "text": [
      "Optimization terminated successfully.\n",
      "         Current function value: 0.380810\n",
      "         Iterations 6\n"
     ]
    },
    {
     "data": {
      "image/png": "[encoded data removed]",
      "text/plain": [
       "<Figure size 864x432 with 1 Axes>"
      ]
     },
     "metadata": {
      "needs_background": "light"
     },
     "output_type": "display_data"
    }
   ],
   "source": [
    "y = kicks['Good?']\n",
    "X = kicks[['Dist','Constant']]\n",
    "\n",
    "probit = sm.Probit(y, X)\n",
    "probit_res = probit.fit()\n",
    "probit_me = probit_res.get_margeff()\n",
    "probit_me.summary()\n",
    "\n",
    "kicks['Kick prob 2'] = probit_res.predict(kicks[['Dist', 'Constant']])\n",
    "\n",
    "bydistance = kicks.groupby(['Dist']).mean()\n",
    "\n",
    "plt.figure(figsize=(12,6))\n",
    "sns.scatterplot(bydistance.index, bydistance['Good?'])\n",
    "sns.scatterplot(bydistance.index, bydistance['Kick prob 2'])\n",
    "\n",
    "plt.show()"
   ]
  },
  {
   "cell_type": "code",
   "execution_count": 143,
   "metadata": {},
   "outputs": [
    {
     "data": {
      "text/html": [
       "<table class=\"simpletable\">\n",
       "<caption>Probit Marginal Effects</caption>\n",
       "<tr>\n",
       "  <th>Dep. Variable:</th>  <td>Good?</td> \n",
       "</tr>\n",
       "<tr>\n",
       "  <th>Method:</th>         <td>dydx</td>  \n",
       "</tr>\n",
       "<tr>\n",
       "  <th>At:</th>            <td>overall</td>\n",
       "</tr>\n",
       "</table>\n",
       "<table class=\"simpletable\">\n",
       "<tr>\n",
       "    <th></th>      <th>dy/dx</th>    <th>std err</th>      <th>z</th>      <th>P>|z|</th>  <th>[0.025</th>    <th>0.975]</th>  \n",
       "</tr>\n",
       "<tr>\n",
       "  <th>Dist</th> <td>   -0.0128</td> <td>    0.001</td> <td>  -18.562</td> <td> 0.000</td> <td>   -0.014</td> <td>   -0.011</td>\n",
       "</tr>\n",
       "</table>"
      ],
      "text/plain": [
       "<class 'statsmodels.iolib.summary.Summary'>\n",
       "\"\"\"\n",
       "       Probit Marginal Effects       \n",
       "=====================================\n",
       "Dep. Variable:                  Good?\n",
       "Method:                          dydx\n",
       "At:                           overall\n",
       "==============================================================================\n",
       "                dy/dx    std err          z      P>|z|      [0.025      0.975]\n",
       "------------------------------------------------------------------------------\n",
       "Dist          -0.0128      0.001    -18.562      0.000      -0.014      -0.011\n",
       "==============================================================================\n",
       "\"\"\""
      ]
     },
     "execution_count": 143,
     "metadata": {},
     "output_type": "execute_result"
    }
   ],
   "source": [
    "probit_me.summary()"
   ]
  },
  {
   "cell_type": "code",
   "execution_count": 81,
   "metadata": {
    "scrolled": true
   },
   "outputs": [
    {
     "ename": "IndentationError",
     "evalue": "unexpected indent (<ipython-input-81-1e00cdc96888>, line 4)",
     "output_type": "error",
     "traceback": [
      "\u001b[0;36m  File \u001b[0;32m\"<ipython-input-81-1e00cdc96888>\"\u001b[0;36m, line \u001b[0;32m4\u001b[0m\n\u001b[0;31m    '''newrow = []\u001b[0m\n\u001b[0m    ^\u001b[0m\n\u001b[0;31mIndentationError\u001b[0m\u001b[0;31m:\u001b[0m unexpected indent\n"
     ]
    }
   ],
   "source": [
    "scatter_data = pd.DataFrame()\n",
    "scatter_data['cons'] = 1\n",
    "#for i in range(10):\n",
    "    '''newrow = []\n",
    "    newrow.append(i)\n",
    "    newrow.append(i**2)\n",
    "    newrow.append(1)\n",
    "    newrow.append(probit_res.predict([i, 1])[0])\n",
    "    newrow.append(probit_sq_res.predict([i, i**2, 1])[0])\n",
    "    print(newrow)'''\n",
    "    #scatter_data.append([[i],[i**2],[1],probit_res.predict([i, 1])[0],probit_sq_res.predict([i, i**2, 1])[0]])\n",
    "\n",
    "scatter_data\n",
    "    "
   ]
  },
  {
   "cell_type": "code",
   "execution_count": 108,
   "metadata": {},
   "outputs": [],
   "source": [
    "scatter_data = pd.DataFrame()\n",
    "scatter_data['cons'] = [1]*100\n",
    "scatter_data['yards'] = scatter_data.index\n",
    "scatter_data['yards_sq'] = scatter_data['yards']**2\n",
    "scatter_data['yards_cu'] = scatter_data['yards']**3\n",
    "scatter_data['linear_predict'] = probit_res.predict(scatter_data[['yards', 'cons']])\n",
    "scatter_data['sq_predict'] = probit_sq_res.predict(scatter_data[['yards', 'yards_sq', 'cons']])\n",
    "scatter_data['cu_predict'] = probit_cu_res.predict(scatter_data[['yards', 'yards_sq', 'yards_cu', 'cons']])"
   ]
  },
  {
   "cell_type": "code",
   "execution_count": 109,
   "metadata": {},
   "outputs": [
    {
     "data": {
      "image/png": "[encoded data removed]",
      "text/plain": [
       "<Figure size 864x432 with 1 Axes>"
      ]
     },
     "metadata": {
      "needs_background": "light"
     },
     "output_type": "display_data"
    }
   ],
   "source": [
    "plt.figure(figsize=(12,6))\n",
    "sns.scatterplot(scatter_data['yards'], scatter_data['linear_predict'])\n",
    "sns.scatterplot(scatter_data['yards'], scatter_data['sq_predict'])\n",
    "sns.scatterplot(scatter_data['yards'], scatter_data['cu_predict'])\n",
    "\n",
    "plt.show()"
   ]
  },
  {
   "cell_type": "code",
   "execution_count": 92,
   "metadata": {},
   "outputs": [
    {
     "data": {
      "text/plain": [
       "Index(['Date', 'Tm', 'At', 'Opp', 'Result', 'Player', 'Dist', 'Good?', 'Blk?',\n",
       "       'Home', 'PlayerID', 'Stadium', 'Dist_sq', 'Season', 'Month', 'Constant',\n",
       "       'Kick prob', 'Kick prob 2'],\n",
       "      dtype='object')"
      ]
     },
     "execution_count": 92,
     "metadata": {},
     "output_type": "execute_result"
    }
   ],
   "source": [
    "kicks.columns"
   ]
  },
  {
   "cell_type": "code",
   "execution_count": 106,
   "metadata": {
    "scrolled": true
   },
   "outputs": [
    {
     "name": "stdout",
     "output_type": "stream",
     "text": [
      "Optimization terminated successfully.\n",
      "         Current function value: 0.378691\n",
      "         Iterations 8\n"
     ]
    },
    {
     "data": {
      "image/png": "[encoded data removed]",
      "text/plain": [
       "<Figure size 864x432 with 1 Axes>"
      ]
     },
     "metadata": {
      "needs_background": "light"
     },
     "output_type": "display_data"
    }
   ],
   "source": [
    "kicks['Dist_cu'] = kicks['Dist'].apply(lambda x: x**3)\n",
    "\n",
    "y = kicks['Good?']\n",
    "X = kicks[['Dist', 'Dist_sq', 'Dist_cu', 'Constant']]\n",
    "\n",
    "probit_cu = sm.Probit(y, X)\n",
    "probit_cu_res = probit_cu.fit()\n",
    "probit_cu_me = probit_cu_res.get_margeff()\n",
    "probit_cu_me.summary()\n",
    "\n",
    "kicks['Kick prob 2'] = probit_cu_res.predict(kicks[['Dist', 'Dist_sq', 'Dist_cu', 'Constant']])\n",
    "\n",
    "bydistance = kicks.groupby(['Dist']).mean()\n",
    "\n",
    "plt.figure(figsize=(12,6))\n",
    "sns.scatterplot(bydistance.index, bydistance['Good?'])\n",
    "sns.scatterplot(bydistance.index, bydistance['Kick prob 2'])\n",
    "\n",
    "plt.show()"
   ]
  },
  {
   "cell_type": "code",
   "execution_count": 114,
   "metadata": {
    "scrolled": true
   },
   "outputs": [
    {
     "data": {
      "text/plain": [
       "PlayerID\n",
       "SeibAu00      0.113049\n",
       "TuckJu00      0.098778\n",
       "LambJo00      0.087378\n",
       "GanoGr44      0.084703\n",
       "ZuerGr00      0.053876\n",
       "BadgMi00      0.053649\n",
       "PratMa20      0.052258\n",
       "bryanmat01    0.052245\n",
       "gouldrob01    0.040863\n",
       "LutzWi00      0.039163\n",
       "Name: Percent differential, dtype: float64"
      ]
     },
     "execution_count": 114,
     "metadata": {},
     "output_type": "execute_result"
    }
   ],
   "source": [
    "playerstats = kicks.groupby(['PlayerID']).mean()\n",
    "playerstats['Percent differential'] = playerstats['Good?'] - playerstats['Kick prob']\n",
    "playerstats['Percent differential'].nlargest(10)"
   ]
  },
  {
   "cell_type": "code",
   "execution_count": 115,
   "metadata": {
    "scrolled": true
   },
   "outputs": [
    {
     "data": {
      "text/plain": [
       "PlayerID\n",
       "SturCa00      0.204342\n",
       "ZuerGr00      0.121670\n",
       "gouldrob01    0.116192\n",
       "TuckJu00      0.114304\n",
       "LambJo00      0.088611\n",
       "GanoGr44      0.088088\n",
       "HausSt00      0.082058\n",
       "PratMa20      0.068515\n",
       "bryanmat01    0.064133\n",
       "GostSt20      0.057938\n",
       "Name: Percent differential, dtype: float64"
      ]
     },
     "execution_count": 115,
     "metadata": {},
     "output_type": "execute_result"
    }
   ],
   "source": [
    "playerstats17 = kicks[kicks.Season==2017].groupby(['PlayerID']).mean()\n",
    "playerstats17['Percent differential'] = playerstats17['Good?'] - playerstats17['Kick prob']\n",
    "playerstats17['Percent differential'].nlargest(10)"
   ]
  },
  {
   "cell_type": "code",
   "execution_count": 116,
   "metadata": {},
   "outputs": [
    {
     "data": {
      "text/plain": [
       "PlayerID\n",
       "TaveGi00      0.224587\n",
       "nugenmik01    0.163363\n",
       "bryanmat01    0.153685\n",
       "RosaAl00      0.107309\n",
       "MyerJa00      0.106569\n",
       "HopkDu00      0.098668\n",
       "BadgMi00      0.092495\n",
       "gouldrob01    0.090696\n",
       "LambJo00      0.088900\n",
       "LutzWi00      0.084175\n",
       "Name: Percent differential, dtype: float64"
      ]
     },
     "execution_count": 116,
     "metadata": {},
     "output_type": "execute_result"
    }
   ],
   "source": [
    "playerstats18 = kicks[kicks.Season==2018].groupby(['PlayerID']).mean()\n",
    "playerstats18['Percent differential'] = playerstats18['Good?'] - playerstats18['Kick prob']\n",
    "playerstats18['Percent differential'].nlargest(10)"
   ]
  },
  {
   "cell_type": "code",
   "execution_count": 117,
   "metadata": {
    "scrolled": true
   },
   "outputs": [
    {
     "data": {
      "text/plain": [
       "PlayerID\n",
       "TaveGi00      0.224587\n",
       "bryanmat01    0.213395\n",
       "nugenmik01    0.163363\n",
       "HausSt00      0.136620\n",
       "MyerJa00      0.125190\n",
       "BadgMi00      0.117537\n",
       "LutzWi00      0.107978\n",
       "LambJo00      0.090026\n",
       "gouldrob01    0.089246\n",
       "SandJa00      0.085181\n",
       "Name: Percent differential, dtype: float64"
      ]
     },
     "execution_count": 117,
     "metadata": {},
     "output_type": "execute_result"
    }
   ],
   "source": [
    "# Exclude December\n",
    "playerstats18_nodec = kicks[((kicks.Season==2018) & (kicks.Month != 12))].groupby(['PlayerID']).mean()\n",
    "playerstats18_nodec['Percent differential'] = playerstats18_nodec['Good?'] - playerstats18_nodec['Kick prob']\n",
    "playerstats18_nodec['Percent differential'].nlargest(10)"
   ]
  },
  {
   "cell_type": "code",
   "execution_count": 130,
   "metadata": {},
   "outputs": [
    {
     "data": {
      "text/plain": [
       "PlayerID\n",
       "VedvKa00     -0.772776\n",
       "SuccRy44     -0.709776\n",
       "SantCa01     -0.315530\n",
       "nugenmik01   -0.309388\n",
       "gouldrob01   -0.198277\n",
       "HausSt00     -0.133474\n",
       "bryanmat01   -0.133031\n",
       "McLaCh00     -0.130628\n",
       "RosaAl00     -0.125277\n",
       "vinatada01   -0.095526\n",
       "Name: Percent differential, dtype: float64"
      ]
     },
     "execution_count": 130,
     "metadata": {},
     "output_type": "execute_result"
    }
   ],
   "source": [
    "playerstats19 = kicks[kicks.Season==2019].groupby(['PlayerID']).mean()\n",
    "playerstats19['Percent differential'] = playerstats19['Good?'] - playerstats19['Kick prob']\n",
    "playerstats19['Percent differential'].nsmallest(10)"
   ]
  },
  {
   "cell_type": "code",
   "execution_count": 118,
   "metadata": {},
   "outputs": [
    {
     "data": {
      "text/html": [
       "<div>\n",
       "<style scoped>\n",
       "    .dataframe tbody tr th:only-of-type {\n",
       "        vertical-align: middle;\n",
       "    }\n",
       "\n",
       "    .dataframe tbody tr th {\n",
       "        vertical-align: top;\n",
       "    }\n",
       "\n",
       "    .dataframe thead th {\n",
       "        text-align: right;\n",
       "    }\n",
       "</style>\n",
       "<table border=\"1\" class=\"dataframe\">\n",
       "  <thead>\n",
       "    <tr style=\"text-align: right;\">\n",
       "      <th></th>\n",
       "      <th></th>\n",
       "      <th>Dist</th>\n",
       "      <th>Good?</th>\n",
       "      <th>Kick prob</th>\n",
       "    </tr>\n",
       "    <tr>\n",
       "      <th>Season</th>\n",
       "      <th>Month</th>\n",
       "      <th></th>\n",
       "      <th></th>\n",
       "      <th></th>\n",
       "    </tr>\n",
       "  </thead>\n",
       "  <tbody>\n",
       "    <tr>\n",
       "      <th rowspan=\"4\" valign=\"top\">2017</th>\n",
       "      <th>9</th>\n",
       "      <td>45.833333</td>\n",
       "      <td>0.833333</td>\n",
       "      <td>0.724116</td>\n",
       "    </tr>\n",
       "    <tr>\n",
       "      <th>10</th>\n",
       "      <td>38.250000</td>\n",
       "      <td>0.916667</td>\n",
       "      <td>0.829066</td>\n",
       "    </tr>\n",
       "    <tr>\n",
       "      <th>11</th>\n",
       "      <td>46.333333</td>\n",
       "      <td>0.833333</td>\n",
       "      <td>0.722414</td>\n",
       "    </tr>\n",
       "    <tr>\n",
       "      <th>12</th>\n",
       "      <td>36.888889</td>\n",
       "      <td>0.888889</td>\n",
       "      <td>0.851567</td>\n",
       "    </tr>\n",
       "    <tr>\n",
       "      <th rowspan=\"4\" valign=\"top\">2018</th>\n",
       "      <th>9</th>\n",
       "      <td>41.833333</td>\n",
       "      <td>0.833333</td>\n",
       "      <td>0.801484</td>\n",
       "    </tr>\n",
       "    <tr>\n",
       "      <th>10</th>\n",
       "      <td>41.857143</td>\n",
       "      <td>1.000000</td>\n",
       "      <td>0.788655</td>\n",
       "    </tr>\n",
       "    <tr>\n",
       "      <th>11</th>\n",
       "      <td>37.000000</td>\n",
       "      <td>1.000000</td>\n",
       "      <td>0.836992</td>\n",
       "    </tr>\n",
       "    <tr>\n",
       "      <th>12</th>\n",
       "      <td>40.636364</td>\n",
       "      <td>0.545455</td>\n",
       "      <td>0.814077</td>\n",
       "    </tr>\n",
       "    <tr>\n",
       "      <th rowspan=\"3\" valign=\"top\">2019</th>\n",
       "      <th>9</th>\n",
       "      <td>46.500000</td>\n",
       "      <td>0.666667</td>\n",
       "      <td>0.722645</td>\n",
       "    </tr>\n",
       "    <tr>\n",
       "      <th>10</th>\n",
       "      <td>45.000000</td>\n",
       "      <td>0.750000</td>\n",
       "      <td>0.762645</td>\n",
       "    </tr>\n",
       "    <tr>\n",
       "      <th>11</th>\n",
       "      <td>43.000000</td>\n",
       "      <td>0.333333</td>\n",
       "      <td>0.782904</td>\n",
       "    </tr>\n",
       "  </tbody>\n",
       "</table>\n",
       "</div>"
      ],
      "text/plain": [
       "                   Dist     Good?  Kick prob\n",
       "Season Month                                \n",
       "2017   9      45.833333  0.833333   0.724116\n",
       "       10     38.250000  0.916667   0.829066\n",
       "       11     46.333333  0.833333   0.722414\n",
       "       12     36.888889  0.888889   0.851567\n",
       "2018   9      41.833333  0.833333   0.801484\n",
       "       10     41.857143  1.000000   0.788655\n",
       "       11     37.000000  1.000000   0.836992\n",
       "       12     40.636364  0.545455   0.814077\n",
       "2019   9      46.500000  0.666667   0.722645\n",
       "       10     45.000000  0.750000   0.762645\n",
       "       11     43.000000  0.333333   0.782904"
      ]
     },
     "execution_count": 118,
     "metadata": {},
     "output_type": "execute_result"
    }
   ],
   "source": [
    "shaus = kicks[kicks['PlayerID'] == 'HausSt00']\n",
    "shaus.groupby(['Season', 'Month']).mean().loc[:,['Dist', 'Good?', 'Kick prob']]"
   ]
  },
  {
   "cell_type": "code",
   "execution_count": 119,
   "metadata": {
    "scrolled": true
   },
   "outputs": [
    {
     "data": {
      "text/html": [
       "<div>\n",
       "<style scoped>\n",
       "    .dataframe tbody tr th:only-of-type {\n",
       "        vertical-align: middle;\n",
       "    }\n",
       "\n",
       "    .dataframe tbody tr th {\n",
       "        vertical-align: top;\n",
       "    }\n",
       "\n",
       "    .dataframe thead th {\n",
       "        text-align: right;\n",
       "    }\n",
       "</style>\n",
       "<table border=\"1\" class=\"dataframe\">\n",
       "  <thead>\n",
       "    <tr style=\"text-align: right;\">\n",
       "      <th></th>\n",
       "      <th>Date</th>\n",
       "      <th>Tm</th>\n",
       "      <th>At</th>\n",
       "      <th>Opp</th>\n",
       "      <th>Result</th>\n",
       "      <th>Player</th>\n",
       "      <th>Dist</th>\n",
       "      <th>Good?</th>\n",
       "      <th>Blk?</th>\n",
       "      <th>Home</th>\n",
       "      <th>PlayerID</th>\n",
       "      <th>Stadium</th>\n",
       "      <th>Dist_sq</th>\n",
       "      <th>Month</th>\n",
       "      <th>Constant</th>\n",
       "      <th>Kick prob</th>\n",
       "      <th>Kick prob 2</th>\n",
       "      <th>Dist_cu</th>\n",
       "    </tr>\n",
       "    <tr>\n",
       "      <th>Season</th>\n",
       "      <th></th>\n",
       "      <th></th>\n",
       "      <th></th>\n",
       "      <th></th>\n",
       "      <th></th>\n",
       "      <th></th>\n",
       "      <th></th>\n",
       "      <th></th>\n",
       "      <th></th>\n",
       "      <th></th>\n",
       "      <th></th>\n",
       "      <th></th>\n",
       "      <th></th>\n",
       "      <th></th>\n",
       "      <th></th>\n",
       "      <th></th>\n",
       "      <th></th>\n",
       "      <th></th>\n",
       "    </tr>\n",
       "  </thead>\n",
       "  <tbody>\n",
       "    <tr>\n",
       "      <th>2017</th>\n",
       "      <td>33</td>\n",
       "      <td>33</td>\n",
       "      <td>19</td>\n",
       "      <td>33</td>\n",
       "      <td>33</td>\n",
       "      <td>33</td>\n",
       "      <td>33</td>\n",
       "      <td>33</td>\n",
       "      <td>33</td>\n",
       "      <td>33</td>\n",
       "      <td>33</td>\n",
       "      <td>33</td>\n",
       "      <td>33</td>\n",
       "      <td>33</td>\n",
       "      <td>33</td>\n",
       "      <td>33</td>\n",
       "      <td>33</td>\n",
       "      <td>33</td>\n",
       "    </tr>\n",
       "    <tr>\n",
       "      <th>2018</th>\n",
       "      <td>28</td>\n",
       "      <td>28</td>\n",
       "      <td>14</td>\n",
       "      <td>28</td>\n",
       "      <td>28</td>\n",
       "      <td>28</td>\n",
       "      <td>28</td>\n",
       "      <td>28</td>\n",
       "      <td>28</td>\n",
       "      <td>28</td>\n",
       "      <td>28</td>\n",
       "      <td>28</td>\n",
       "      <td>28</td>\n",
       "      <td>28</td>\n",
       "      <td>28</td>\n",
       "      <td>28</td>\n",
       "      <td>28</td>\n",
       "      <td>28</td>\n",
       "    </tr>\n",
       "    <tr>\n",
       "      <th>2019</th>\n",
       "      <td>13</td>\n",
       "      <td>13</td>\n",
       "      <td>3</td>\n",
       "      <td>13</td>\n",
       "      <td>13</td>\n",
       "      <td>13</td>\n",
       "      <td>13</td>\n",
       "      <td>13</td>\n",
       "      <td>13</td>\n",
       "      <td>13</td>\n",
       "      <td>13</td>\n",
       "      <td>13</td>\n",
       "      <td>13</td>\n",
       "      <td>13</td>\n",
       "      <td>13</td>\n",
       "      <td>13</td>\n",
       "      <td>13</td>\n",
       "      <td>13</td>\n",
       "    </tr>\n",
       "  </tbody>\n",
       "</table>\n",
       "</div>"
      ],
      "text/plain": [
       "        Date  Tm  At  Opp  Result  Player  Dist  Good?  Blk?  Home  PlayerID  \\\n",
       "Season                                                                         \n",
       "2017      33  33  19   33      33      33    33     33    33    33        33   \n",
       "2018      28  28  14   28      28      28    28     28    28    28        28   \n",
       "2019      13  13   3   13      13      13    13     13    13    13        13   \n",
       "\n",
       "        Stadium  Dist_sq  Month  Constant  Kick prob  Kick prob 2  Dist_cu  \n",
       "Season                                                                      \n",
       "2017         33       33     33        33         33           33       33  \n",
       "2018         28       28     28        28         28           28       28  \n",
       "2019         13       13     13        13         13           13       13  "
      ]
     },
     "execution_count": 119,
     "metadata": {},
     "output_type": "execute_result"
    }
   ],
   "source": [
    "shaus.groupby(['Season']).count()"
   ]
  },
  {
   "cell_type": "code",
   "execution_count": 120,
   "metadata": {},
   "outputs": [],
   "source": [
    "shaus19 = shaus[shaus.Season==2019]"
   ]
  },
  {
   "cell_type": "code",
   "execution_count": 257,
   "metadata": {},
   "outputs": [
    {
     "name": "stdout",
     "output_type": "stream",
     "text": [
      "\n"
     ]
    }
   ],
   "source": [
    "c = .75\n",
    "kicksim = pd.DataFrame(np.random.choice([0,1], p=[c,1-c], size=20))\n",
    "c = .8\n",
    "#kicksim = pd.concat([kicksim, pd.Series(np.random.choice([0,1], p=[c,1-c], size=20))])\n",
    "kicksim.assign(new = pd.Series(np.random.choice([0,1], p=[c,1-c], size=20)))\n",
    "\n",
    "print()"
   ]
  },
  {
   "cell_type": "code",
   "execution_count": 121,
   "metadata": {},
   "outputs": [],
   "source": [
    "kicksim = pd.DataFrame()\n",
    "probs = list(shaus19['Kick prob'])\n",
    "for i in range(13):\n",
    "    col_name = 'kick ' + str(i+1)\n",
    "    kicksim[col_name] = pd.Series(np.random.choice([1,0], p=[probs[i],1-probs[i]], size=1000))"
   ]
  },
  {
   "cell_type": "code",
   "execution_count": 122,
   "metadata": {},
   "outputs": [
    {
     "data": {
      "text/html": [
       "<div>\n",
       "<style scoped>\n",
       "    .dataframe tbody tr th:only-of-type {\n",
       "        vertical-align: middle;\n",
       "    }\n",
       "\n",
       "    .dataframe tbody tr th {\n",
       "        vertical-align: top;\n",
       "    }\n",
       "\n",
       "    .dataframe thead th {\n",
       "        text-align: right;\n",
       "    }\n",
       "</style>\n",
       "<table border=\"1\" class=\"dataframe\">\n",
       "  <thead>\n",
       "    <tr style=\"text-align: right;\">\n",
       "      <th></th>\n",
       "      <th>kick 1</th>\n",
       "      <th>kick 2</th>\n",
       "      <th>kick 3</th>\n",
       "      <th>kick 4</th>\n",
       "      <th>kick 5</th>\n",
       "      <th>kick 6</th>\n",
       "      <th>kick 7</th>\n",
       "      <th>kick 8</th>\n",
       "      <th>kick 9</th>\n",
       "      <th>kick 10</th>\n",
       "      <th>kick 11</th>\n",
       "      <th>kick 12</th>\n",
       "      <th>kick 13</th>\n",
       "    </tr>\n",
       "  </thead>\n",
       "  <tbody>\n",
       "    <tr>\n",
       "      <th>count</th>\n",
       "      <td>1000.000000</td>\n",
       "      <td>1000.000000</td>\n",
       "      <td>1000.00000</td>\n",
       "      <td>1000.000000</td>\n",
       "      <td>1000.000000</td>\n",
       "      <td>1000.000000</td>\n",
       "      <td>1000.000000</td>\n",
       "      <td>1000.00000</td>\n",
       "      <td>1000.000000</td>\n",
       "      <td>1000.000000</td>\n",
       "      <td>1000.000000</td>\n",
       "      <td>1000.000000</td>\n",
       "      <td>1000.000000</td>\n",
       "    </tr>\n",
       "    <tr>\n",
       "      <th>mean</th>\n",
       "      <td>0.926000</td>\n",
       "      <td>0.580000</td>\n",
       "      <td>0.83700</td>\n",
       "      <td>0.614000</td>\n",
       "      <td>0.875000</td>\n",
       "      <td>0.760000</td>\n",
       "      <td>0.809000</td>\n",
       "      <td>0.69300</td>\n",
       "      <td>0.740000</td>\n",
       "      <td>0.380000</td>\n",
       "      <td>0.790000</td>\n",
       "      <td>0.925000</td>\n",
       "      <td>0.804000</td>\n",
       "    </tr>\n",
       "    <tr>\n",
       "      <th>std</th>\n",
       "      <td>0.261902</td>\n",
       "      <td>0.493805</td>\n",
       "      <td>0.36955</td>\n",
       "      <td>0.487074</td>\n",
       "      <td>0.330884</td>\n",
       "      <td>0.427297</td>\n",
       "      <td>0.393286</td>\n",
       "      <td>0.46148</td>\n",
       "      <td>0.438854</td>\n",
       "      <td>0.485629</td>\n",
       "      <td>0.407512</td>\n",
       "      <td>0.263523</td>\n",
       "      <td>0.397167</td>\n",
       "    </tr>\n",
       "    <tr>\n",
       "      <th>min</th>\n",
       "      <td>0.000000</td>\n",
       "      <td>0.000000</td>\n",
       "      <td>0.00000</td>\n",
       "      <td>0.000000</td>\n",
       "      <td>0.000000</td>\n",
       "      <td>0.000000</td>\n",
       "      <td>0.000000</td>\n",
       "      <td>0.00000</td>\n",
       "      <td>0.000000</td>\n",
       "      <td>0.000000</td>\n",
       "      <td>0.000000</td>\n",
       "      <td>0.000000</td>\n",
       "      <td>0.000000</td>\n",
       "    </tr>\n",
       "    <tr>\n",
       "      <th>25%</th>\n",
       "      <td>1.000000</td>\n",
       "      <td>0.000000</td>\n",
       "      <td>1.00000</td>\n",
       "      <td>0.000000</td>\n",
       "      <td>1.000000</td>\n",
       "      <td>1.000000</td>\n",
       "      <td>1.000000</td>\n",
       "      <td>0.00000</td>\n",
       "      <td>0.000000</td>\n",
       "      <td>0.000000</td>\n",
       "      <td>1.000000</td>\n",
       "      <td>1.000000</td>\n",
       "      <td>1.000000</td>\n",
       "    </tr>\n",
       "    <tr>\n",
       "      <th>50%</th>\n",
       "      <td>1.000000</td>\n",
       "      <td>1.000000</td>\n",
       "      <td>1.00000</td>\n",
       "      <td>1.000000</td>\n",
       "      <td>1.000000</td>\n",
       "      <td>1.000000</td>\n",
       "      <td>1.000000</td>\n",
       "      <td>1.00000</td>\n",
       "      <td>1.000000</td>\n",
       "      <td>0.000000</td>\n",
       "      <td>1.000000</td>\n",
       "      <td>1.000000</td>\n",
       "      <td>1.000000</td>\n",
       "    </tr>\n",
       "    <tr>\n",
       "      <th>75%</th>\n",
       "      <td>1.000000</td>\n",
       "      <td>1.000000</td>\n",
       "      <td>1.00000</td>\n",
       "      <td>1.000000</td>\n",
       "      <td>1.000000</td>\n",
       "      <td>1.000000</td>\n",
       "      <td>1.000000</td>\n",
       "      <td>1.00000</td>\n",
       "      <td>1.000000</td>\n",
       "      <td>1.000000</td>\n",
       "      <td>1.000000</td>\n",
       "      <td>1.000000</td>\n",
       "      <td>1.000000</td>\n",
       "    </tr>\n",
       "    <tr>\n",
       "      <th>max</th>\n",
       "      <td>1.000000</td>\n",
       "      <td>1.000000</td>\n",
       "      <td>1.00000</td>\n",
       "      <td>1.000000</td>\n",
       "      <td>1.000000</td>\n",
       "      <td>1.000000</td>\n",
       "      <td>1.000000</td>\n",
       "      <td>1.00000</td>\n",
       "      <td>1.000000</td>\n",
       "      <td>1.000000</td>\n",
       "      <td>1.000000</td>\n",
       "      <td>1.000000</td>\n",
       "      <td>1.000000</td>\n",
       "    </tr>\n",
       "  </tbody>\n",
       "</table>\n",
       "</div>"
      ],
      "text/plain": [
       "            kick 1       kick 2      kick 3       kick 4       kick 5  \\\n",
       "count  1000.000000  1000.000000  1000.00000  1000.000000  1000.000000   \n",
       "mean      0.926000     0.580000     0.83700     0.614000     0.875000   \n",
       "std       0.261902     0.493805     0.36955     0.487074     0.330884   \n",
       "min       0.000000     0.000000     0.00000     0.000000     0.000000   \n",
       "25%       1.000000     0.000000     1.00000     0.000000     1.000000   \n",
       "50%       1.000000     1.000000     1.00000     1.000000     1.000000   \n",
       "75%       1.000000     1.000000     1.00000     1.000000     1.000000   \n",
       "max       1.000000     1.000000     1.00000     1.000000     1.000000   \n",
       "\n",
       "            kick 6       kick 7      kick 8       kick 9      kick 10  \\\n",
       "count  1000.000000  1000.000000  1000.00000  1000.000000  1000.000000   \n",
       "mean      0.760000     0.809000     0.69300     0.740000     0.380000   \n",
       "std       0.427297     0.393286     0.46148     0.438854     0.485629   \n",
       "min       0.000000     0.000000     0.00000     0.000000     0.000000   \n",
       "25%       1.000000     1.000000     0.00000     0.000000     0.000000   \n",
       "50%       1.000000     1.000000     1.00000     1.000000     0.000000   \n",
       "75%       1.000000     1.000000     1.00000     1.000000     1.000000   \n",
       "max       1.000000     1.000000     1.00000     1.000000     1.000000   \n",
       "\n",
       "           kick 11      kick 12      kick 13  \n",
       "count  1000.000000  1000.000000  1000.000000  \n",
       "mean      0.790000     0.925000     0.804000  \n",
       "std       0.407512     0.263523     0.397167  \n",
       "min       0.000000     0.000000     0.000000  \n",
       "25%       1.000000     1.000000     1.000000  \n",
       "50%       1.000000     1.000000     1.000000  \n",
       "75%       1.000000     1.000000     1.000000  \n",
       "max       1.000000     1.000000     1.000000  "
      ]
     },
     "execution_count": 122,
     "metadata": {},
     "output_type": "execute_result"
    }
   ],
   "source": [
    "kicksim.describe()"
   ]
  },
  {
   "cell_type": "code",
   "execution_count": 123,
   "metadata": {},
   "outputs": [
    {
     "data": {
      "text/plain": [
       "[0.922039987399988,\n",
       " 0.6026009191364057,\n",
       " 0.8240716910943428,\n",
       " 0.6026009191364057,\n",
       " 0.8673538188912888,\n",
       " 0.7727756227115052,\n",
       " 0.8078504444313838,\n",
       " 0.692887575816421,\n",
       " 0.7539671978520093,\n",
       " 0.38635171311330313,\n",
       " 0.7727756227115052,\n",
       " 0.922039987399988,\n",
       " 0.8078504444313838]"
      ]
     },
     "execution_count": 123,
     "metadata": {},
     "output_type": "execute_result"
    }
   ],
   "source": [
    "probs"
   ]
  },
  {
   "cell_type": "code",
   "execution_count": 124,
   "metadata": {},
   "outputs": [
    {
     "data": {
      "text/plain": [
       "8"
      ]
     },
     "execution_count": 124,
     "metadata": {},
     "output_type": "execute_result"
    }
   ],
   "source": [
    "sum(shaus19['Good?'])"
   ]
  },
  {
   "cell_type": "code",
   "execution_count": 125,
   "metadata": {},
   "outputs": [],
   "source": [
    "kicksim['Kicks made'] = 0\n",
    "\n",
    "for k in range(kicksim.shape[0]):\n",
    "    kicksim.loc[k, 'Kicks made'] = sum(kicksim.iloc[k,:])\n",
    "\n",
    "\n",
    "\n",
    "#sum(kicksim.iloc[1,:])"
   ]
  },
  {
   "cell_type": "code",
   "execution_count": 128,
   "metadata": {},
   "outputs": [
    {
     "data": {
      "image/png": "[encoded data removed]",
      "text/plain": [
       "<Figure size 864x432 with 1 Axes>"
      ]
     },
     "metadata": {
      "needs_background": "light"
     },
     "output_type": "display_data"
    }
   ],
   "source": [
    "plt.figure(figsize=(12,6))\n",
    "plt.bar(kicksim['Kicks made'].value_counts().index, kicksim['Kicks made'].value_counts())\n",
    "plt.show()"
   ]
  },
  {
   "cell_type": "code",
   "execution_count": 144,
   "metadata": {},
   "outputs": [
    {
     "data": {
      "text/plain": [
       "203"
      ]
     },
     "execution_count": 144,
     "metadata": {},
     "output_type": "execute_result"
    }
   ],
   "source": [
    "sum(kicksim['Kicks made'] <= 8)"
   ]
  },
  {
   "cell_type": "code",
   "execution_count": 141,
   "metadata": {},
   "outputs": [
    {
     "data": {
      "image/png": "[encoded data removed]",
      "text/plain": [
       "<Figure size 864x1080 with 1 Axes>"
      ]
     },
     "metadata": {
      "needs_background": "light"
     },
     "output_type": "display_data"
    }
   ],
   "source": [
    "playerstats17 = playerstats17.sort_values(by=['Percent differential'])\n",
    "plt.figure(figsize=(12,15))\n",
    "plt.barh(playerstats17.index,playerstats17['Percent differential'], height=1, edgecolor='white')\n",
    "plt.show()"
   ]
  }
 ],
 "metadata": {
  "kernelspec": {
   "display_name": "Python 3",
   "language": "python",
   "name": "python3"
  },
  "language_info": {
   "codemirror_mode": {
    "name": "ipython",
    "version": 3
   },
   "file_extension": ".py",
   "mimetype": "text/x-python",
   "name": "python",
   "nbconvert_exporter": "python",
   "pygments_lexer": "ipython3",
   "version": "3.7.3"
  }
 },
 "nbformat": 4,
 "nbformat_minor": 2
}
